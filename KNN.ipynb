{
 "cells": [
  {
   "cell_type": "code",
   "execution_count": 1,
   "metadata": {},
   "outputs": [
    {
     "name": "stdout",
     "output_type": "stream",
     "text": [
      "Accuracy is: 90.7299726576835\n",
      "Precision is: 92.96384488585319\n",
      "Recall is: 90.7299726576835\n"
     ]
    }
   ],
   "source": [
    "import numpy as np\n",
    "import pandas as pd\n",
    "from sklearn.linear_model import LogisticRegression\n",
    "from sklearn.model_selection import train_test_split, cross_val_score\n",
    "from sklearn import tree\n",
    "from sklearn.neighbors import KNeighborsClassifier\n",
    "from sklearn.metrics import accuracy_score, precision_score, recall_score\n",
    "import matplotlib.pyplot as plt\n",
    "from random import randint as ri\n",
    "%matplotlib inline\n",
    "import warnings\n",
    "warnings.filterwarnings(\"ignore\") \n",
    "\n",
    "\n",
    "\n",
    "data = pd.read_csv('flight3.csv')\n",
    "\n",
    "features = data[[\"N_Traffic\",\"NE_Traffic\",\"E_Traffic\",\"SE_Traffic\",\"S_Traffic\",\"SW_Traffic\",\"W_Traffic\",\"NW_Traffic\",\"Clogging?\"]]\n",
    "\n",
    "d = {'Yes': 1, 'No': 0}\n",
    "\n",
    "features = features.replace({'S_Traffic': d})\n",
    "features = features.replace({'N_Traffic': d})\n",
    "features = features.replace({'E_Traffic': d})\n",
    "features = features.replace({'W_Traffic': d})\n",
    "features = features.replace({'Clogging?': d})\n",
    "features = features.replace({'NE_Traffic': d})\n",
    "features = features.replace({'SE_Traffic': d})\n",
    "features = features.replace({'SW_Traffic': d})\n",
    "features = features.replace({'NW_Traffic': d})\n",
    "\n",
    "accuracies, precisions, recalls = list(), list(), list()\n",
    "X_train, X_test, y_train, y_test = train_test_split(features[features.columns[:-1]], features['Clogging?'], test_size = 0.3, random_state = ri(1, 10))\n",
    "for i in range(1, 250):\n",
    "    knn = KNeighborsClassifier(n_neighbors=i)\n",
    "    knn.fit(X_train, y_train)\n",
    "    y_pred = knn.predict(X_test)\n",
    "    accuracies.append(accuracy_score(y_pred, y_test) * 100)\n",
    "    precisions.append(precision_score(y_pred, y_test, average='weighted') * 100)\n",
    "    recalls.append(recall_score(y_test, y_pred, average='weighted') * 100)\n",
    "    # print(f'{500}: {accuracy_score(y_pred, y_test) * 100}')\n",
    "    # print(precision_score(y_test, y_pred, average='weighted'))\n",
    "    # print(recall_score(y_test, y_pred, average='weighted'))\n",
    "\n",
    "\n",
    "    \n",
    "print(\"Accuracy is: {0}\".format(np.mean(accuracies)))\n",
    "print(\"Precision is: {0}\".format(np.mean(precisions)))\n",
    "print(\"Recall is: {0}\".format(np.mean(recalls)))"
   ]
  },
  {
   "cell_type": "code",
   "execution_count": null,
   "metadata": {},
   "outputs": [],
   "source": []
  },
  {
   "cell_type": "code",
   "execution_count": null,
   "metadata": {},
   "outputs": [],
   "source": []
  },
  {
   "cell_type": "code",
   "execution_count": null,
   "metadata": {},
   "outputs": [],
   "source": []
  },
  {
   "cell_type": "code",
   "execution_count": null,
   "metadata": {},
   "outputs": [],
   "source": []
  },
  {
   "cell_type": "code",
   "execution_count": null,
   "metadata": {},
   "outputs": [],
   "source": []
  },
  {
   "cell_type": "code",
   "execution_count": null,
   "metadata": {},
   "outputs": [],
   "source": []
  },
  {
   "cell_type": "code",
   "execution_count": null,
   "metadata": {},
   "outputs": [],
   "source": []
  },
  {
   "cell_type": "code",
   "execution_count": null,
   "metadata": {},
   "outputs": [],
   "source": []
  }
 ],
 "metadata": {
  "kernelspec": {
   "display_name": "Python 3",
   "language": "python",
   "name": "python3"
  },
  "language_info": {
   "codemirror_mode": {
    "name": "ipython",
    "version": 3
   },
   "file_extension": ".py",
   "mimetype": "text/x-python",
   "name": "python",
   "nbconvert_exporter": "python",
   "pygments_lexer": "ipython3",
   "version": "3.8.3"
  }
 },
 "nbformat": 4,
 "nbformat_minor": 5
}
