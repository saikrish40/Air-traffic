{
 "cells": [
  {
   "cell_type": "code",
   "execution_count": 7,
   "id": "european-melbourne",
   "metadata": {},
   "outputs": [
    {
     "name": "stdout",
     "output_type": "stream",
     "text": [
      "Accuracy Score: 99.61389961389962\n",
      "[[499   3]\n",
      " [  0 275]]\n"
     ]
    },
    {
     "data": {
      "image/png": "[encoded data removed]",
      "text/plain": [
       "<Figure size 432x288 with 2 Axes>"
      ]
     },
     "metadata": {
      "needs_background": "light"
     },
     "output_type": "display_data"
    }
   ],
   "source": [
    "import numpy as np\n",
    "import pandas as pd\n",
    "from sklearn.linear_model import LogisticRegression\n",
    "from sklearn.model_selection import train_test_split, cross_val_score\n",
    "from sklearn.tree import DecisionTreeClassifier, plot_tree\n",
    "from sklearn import tree\n",
    "from sklearn.neighbors import KNeighborsClassifier\n",
    "from sklearn.metrics import accuracy_score, confusion_matrix, plot_confusion_matrix, classification_report\n",
    "import matplotlib.pyplot as plt\n",
    "from random import randint as ri\n",
    "from sklearn.ensemble import RandomForestClassifier\n",
    "%matplotlib inline\n",
    "import warnings\n",
    "warnings.filterwarnings(\"ignore\", category=DeprecationWarning) \n",
    "warnings.filterwarnings('ignore')\n",
    "\n",
    "\n",
    "\n",
    "data = pd.read_csv('flight3.csv')\n",
    "\n",
    "features = data[[\"N_Traffic\",\"NE_Traffic\",\"E_Traffic\",\"SE_Traffic\",\"S_Traffic\",\"SW_Traffic\",\"W_Traffic\",\"NW_Traffic\",\"Clogging?\"]]\n",
    "\n",
    "d = {'Yes': 1, 'No': 0}\n",
    "\n",
    "features = features.replace({'S_Traffic': d})\n",
    "features = features.replace({'N_Traffic': d})\n",
    "features = features.replace({'E_Traffic': d})\n",
    "features = features.replace({'W_Traffic': d})\n",
    "features = features.replace({'Clogging?': d})\n",
    "features = features.replace({'NE_Traffic': d})\n",
    "features = features.replace({'SE_Traffic': d})\n",
    "features = features.replace({'SW_Traffic': d})\n",
    "features = features.replace({'NW_Traffic': d})\n",
    "\n",
    "X, y = features[features.columns[:-1]], features['Clogging?']\n",
    "\n",
    "X_train,X_test,y_train,y_test=train_test_split(X,y,test_size=0.30,random_state=ri(1, 50))\n",
    "\n",
    "clf = DecisionTreeClassifier(max_depth=8)\n",
    "clf.fit(X_train, y_train)\n",
    "\n",
    "# fig = plt.figure(figsize=(25,20))\n",
    "# _ = tree.plot_tree(clf, \n",
    "#                    feature_names= features.columns[:-1],\n",
    "#                    class_names='Clogging?',\n",
    "#                    filled=True)\n",
    "\n",
    "# fig.savefig('output.pdf')\n",
    "\n",
    "y_pred = clf.predict(X_test)\n",
    "print('Accuracy Score:', accuracy_score(y_test,y_pred)*100)\n",
    "cm = confusion_matrix(y_test, y_pred)\n",
    "print(cm)\n",
    "x = plot_confusion_matrix(clf, X_test, y_test)\n",
    "plt.savefig('Decision Tree.jpg')\n",
    "plt.show()"
   ]
  },
  {
   "cell_type": "code",
   "execution_count": 9,
   "id": "biblical-greene",
   "metadata": {},
   "outputs": [
    {
     "name": "stdout",
     "output_type": "stream",
     "text": [
      "              precision    recall  f1-score   support\n",
      "\n",
      "           0       0.99      1.00      1.00       499\n",
      "           1       1.00      0.99      0.99       278\n",
      "\n",
      "    accuracy                           1.00       777\n",
      "   macro avg       1.00      0.99      1.00       777\n",
      "weighted avg       1.00      1.00      1.00       777\n",
      "\n"
     ]
    }
   ],
   "source": [
    "print(classification_report(y_pred, y_test))"
   ]
  },
  {
   "cell_type": "code",
   "execution_count": null,
   "id": "distant-basis",
   "metadata": {},
   "outputs": [],
   "source": []
  }
 ],
 "metadata": {
  "kernelspec": {
   "display_name": "Python 3",
   "language": "python",
   "name": "python3"
  },
  "language_info": {
   "codemirror_mode": {
    "name": "ipython",
    "version": 3
   },
   "file_extension": ".py",
   "mimetype": "text/x-python",
   "name": "python",
   "nbconvert_exporter": "python",
   "pygments_lexer": "ipython3",
   "version": "3.7.8"
  }
 },
 "nbformat": 4,
 "nbformat_minor": 5
}
