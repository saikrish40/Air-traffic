{
 "cells": [
  {
   "cell_type": "code",
   "execution_count": 10,
   "metadata": {},
   "outputs": [
    {
     "name": "stdout",
     "output_type": "stream",
     "text": [
      "Accuracy Score: 89.16042569964524\n",
      "[[1622    0]\n",
      " [ 275  640]]\n"
     ]
    },
    {
     "data": {
      "image/png": "[encoded data removed]",
      "text/plain": [
       "<Figure size 432x288 with 2 Axes>"
      ]
     },
     "metadata": {
      "needs_background": "light"
     },
     "output_type": "display_data"
    }
   ],
   "source": [
    "import numpy as np\n",
    "import pandas as pd\n",
    "from sklearn.linear_model import LogisticRegression\n",
    "from sklearn.model_selection import train_test_split\n",
    "from sklearn import tree\n",
    "import matplotlib.pyplot as plt\n",
    "from random import randint as ri\n",
    "from sklearn.preprocessing import StandardScaler\n",
    "from sklearn.metrics import accuracy_score, confusion_matrix, plot_confusion_matrix, classification_report\n",
    "%matplotlib inline\n",
    "import warnings\n",
    "from sklearn.exceptions import DataConversionWarning\n",
    "warnings.filterwarnings('ignore')\n",
    "\n",
    "\n",
    "data = pd.read_csv('flight3.csv')\n",
    "\n",
    "features = data[[\"N_Traffic\",\"NE_Traffic\",\"E_Traffic\",\"SE_Traffic\",\"S_Traffic\",\"SW_Traffic\",\"W_Traffic\",\"NW_Traffic\",\"Clogging?\"]]\n",
    "\n",
    "d = {'Yes': 1, 'No': 0}\n",
    "\n",
    "features = features.replace({'S_Traffic': d})\n",
    "features = features.replace({'N_Traffic': d})\n",
    "features = features.replace({'E_Traffic': d})\n",
    "features = features.replace({'W_Traffic': d})\n",
    "features = features.replace({'Clogging?': d})\n",
    "features = features.replace({'NE_Traffic': d})\n",
    "features = features.replace({'SE_Traffic': d})\n",
    "features = features.replace({'SW_Traffic': d})\n",
    "features = features.replace({'NW_Traffic': d})\n",
    "\n",
    "X, y = features[features.columns[:-1]], features['Clogging?']\n",
    "\n",
    "X_train, X_test, y_train, y_test = train_test_split(X, y, test_size = 0.98, random_state = ri(1, 50))\n",
    "\n",
    "\n",
    "# sc = StandardScaler()\n",
    "# X_train = sc.fit_transform(X_train) \n",
    "# X_test = sc.transform(X_test)\n",
    "\n",
    "clf = LogisticRegression(random_state = ri(1, 50))\n",
    "clf.fit(X_train, y_train)\n",
    "y_pred = clf.predict(X_test)\n",
    "print('Accuracy Score:', accuracy_score(y_test,y_pred)*100)\n",
    "cm = confusion_matrix(y_test, y_pred)\n",
    "print(cm)\n",
    "x = plot_confusion_matrix(clf, X_test, y_test)\n",
    "plt.savefig('Logistic Regression.jpg')\n",
    "plt.show()"
   ]
  },
  {
   "cell_type": "code",
   "execution_count": 2,
   "metadata": {},
   "outputs": [
    {
     "name": "stdout",
     "output_type": "stream",
     "text": [
      "              precision    recall  f1-score   support\n",
      "\n",
      "           0       0.99      0.98      0.99      1582\n",
      "           1       0.97      0.98      0.97       877\n",
      "\n",
      "    accuracy                           0.98      2459\n",
      "   macro avg       0.98      0.98      0.98      2459\n",
      "weighted avg       0.98      0.98      0.98      2459\n",
      "\n"
     ]
    }
   ],
   "source": [
    "print(classification_report(y_test, y_pred))"
   ]
  },
  {
   "cell_type": "code",
   "execution_count": null,
   "metadata": {},
   "outputs": [],
   "source": []
  },
  {
   "cell_type": "code",
   "execution_count": null,
   "metadata": {},
   "outputs": [],
   "source": []
  },
  {
   "cell_type": "code",
   "execution_count": null,
   "metadata": {},
   "outputs": [],
   "source": []
  }
 ],
 "metadata": {
  "kernelspec": {
   "display_name": "Python 3",
   "language": "python",
   "name": "python3"
  },
  "language_info": {
   "codemirror_mode": {
    "name": "ipython",
    "version": 3
   },
   "file_extension": ".py",
   "mimetype": "text/x-python",
   "name": "python",
   "nbconvert_exporter": "python",
   "pygments_lexer": "ipython3",
   "version": "3.8.3"
  }
 },
 "nbformat": 4,
 "nbformat_minor": 5
}
