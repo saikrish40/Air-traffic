{
 "cells": [
  {
   "cell_type": "code",
   "execution_count": 5,
   "metadata": {},
   "outputs": [
    {
     "name": "stdout",
     "output_type": "stream",
     "text": [
      "Accuracy Score: 89.48497854077253\n",
      "[[1364  128]\n",
      " [ 117  721]]\n"
     ]
    },
    {
     "data": {
      "image/png": "[encoded data removed]",
      "text/plain": [
       "<Figure size 432x288 with 2 Axes>"
      ]
     },
     "metadata": {
      "needs_background": "light"
     },
     "output_type": "display_data"
    }
   ],
   "source": [
    "import numpy as np\n",
    "import pandas as pd\n",
    "from sklearn.linear_model import LogisticRegression\n",
    "from sklearn.model_selection import train_test_split, cross_val_score\n",
    "from sklearn.tree import DecisionTreeClassifier, plot_tree\n",
    "from sklearn import tree\n",
    "from sklearn.neighbors import KNeighborsClassifier\n",
    "from sklearn.metrics import accuracy_score, confusion_matrix, plot_confusion_matrix, classification_report\n",
    "import matplotlib.pyplot as plt\n",
    "from random import randint as ri\n",
    "from sklearn.ensemble import RandomForestClassifier\n",
    "%matplotlib inline\n",
    "import warnings\n",
    "warnings.filterwarnings(\"ignore\", category=DeprecationWarning) \n",
    "warnings.filterwarnings('ignore')\n",
    "\n",
    "\n",
    "\n",
    "data = pd.read_csv('flight3.csv')\n",
    "\n",
    "features = data[[\"N_Traffic\",\"NE_Traffic\",\"E_Traffic\",\"SE_Traffic\",\"S_Traffic\",\"SW_Traffic\",\"W_Traffic\",\"NW_Traffic\",\"Clogging?\"]]\n",
    "\n",
    "d = {'Yes': 1, 'No': 0}\n",
    "\n",
    "features = features.replace({'S_Traffic': d})\n",
    "features = features.replace({'N_Traffic': d})\n",
    "features = features.replace({'E_Traffic': d})\n",
    "features = features.replace({'W_Traffic': d})\n",
    "features = features.replace({'Clogging?': d})\n",
    "features = features.replace({'NE_Traffic': d})\n",
    "features = features.replace({'SE_Traffic': d})\n",
    "features = features.replace({'SW_Traffic': d})\n",
    "features = features.replace({'NW_Traffic': d})\n",
    "\n",
    "X, y = features[features.columns[:-1]], features['Clogging?']\n",
    "\n",
    "X_train,X_test,y_train,y_test=train_test_split(X,y,test_size=0.90,random_state=ri(1, 50))\n",
    "\n",
    "clf = RandomForestClassifier(n_estimators=3)\n",
    "clf.fit(X_train, y_train)\n",
    "y_pred = clf.predict(X_test)\n",
    "print('Accuracy Score:', accuracy_score(y_test,y_pred)*100)\n",
    "cm = confusion_matrix(y_test, y_pred)\n",
    "print(cm)\n",
    "x = plot_confusion_matrix(clf, X_test, y_test)\n",
    "plt.savefig('Random Forest Classifier.jpg')\n",
    "plt.show()\n"
   ]
  },
  {
   "cell_type": "code",
   "execution_count": 2,
   "metadata": {},
   "outputs": [
    {
     "name": "stdout",
     "output_type": "stream",
     "text": [
      "              precision    recall  f1-score   support\n",
      "\n",
      "           0       1.00      1.00      1.00       510\n",
      "           1       1.00      0.99      0.99       267\n",
      "\n",
      "    accuracy                           1.00       777\n",
      "   macro avg       1.00      1.00      1.00       777\n",
      "weighted avg       1.00      1.00      1.00       777\n",
      "\n"
     ]
    }
   ],
   "source": [
    "print(classification_report(y_test, y_pred))"
   ]
  },
  {
   "cell_type": "code",
   "execution_count": null,
   "metadata": {},
   "outputs": [],
   "source": []
  },
  {
   "cell_type": "code",
   "execution_count": null,
   "metadata": {},
   "outputs": [],
   "source": []
  },
  {
   "cell_type": "code",
   "execution_count": null,
   "metadata": {},
   "outputs": [],
   "source": []
  },
  {
   "cell_type": "code",
   "execution_count": null,
   "metadata": {},
   "outputs": [],
   "source": []
  },
  {
   "cell_type": "code",
   "execution_count": null,
   "metadata": {},
   "outputs": [],
   "source": []
  }
 ],
 "metadata": {
  "kernelspec": {
   "display_name": "Python 3",
   "language": "python",
   "name": "python3"
  },
  "language_info": {
   "codemirror_mode": {
    "name": "ipython",
    "version": 3
   },
   "file_extension": ".py",
   "mimetype": "text/x-python",
   "name": "python",
   "nbconvert_exporter": "python",
   "pygments_lexer": "ipython3",
   "version": "3.8.3"
  }
 },
 "nbformat": 4,
 "nbformat_minor": 5
}
